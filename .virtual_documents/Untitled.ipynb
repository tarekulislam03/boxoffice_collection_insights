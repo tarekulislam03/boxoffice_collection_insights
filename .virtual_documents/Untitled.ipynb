import matplotlib.pyplot as plt
import pandas as pd




# Data: Yearly worldwide revenue trends (in B$)
data = {
    "Year": [2019,2009,2022,2015,2018,2021,2024,2012,2023,2011,2017,2013,2016,2003,
             2014,2010,2006,2008,2001,2007,2004,2002,2005,2000,2020],
    "Revenue_B": [2.799439,2.743578,2.320250,2.068224,2.048360,1.910983,1.698773,
                  1.518813,1.446938,1.341511,1.332540,1.280802,1.153296,1.118887,
                  1.104054,1.066970,1.066180,1.003845,0.974755,0.960996,0.928974,
                  0.923015,0.895921,0.546388,0.473230]
}

# Create DataFrame
df = pd.DataFrame(data)

# Sort years in ascending order
df = df.sort_values("Year")

# Plot line chart
plt.figure(figsize=(12,6))
plt.plot(df["Year"], df["Revenue_B"], marker="o", linestyle="-", color="b", label="Worldwide Revenue")

# Add labels and title
plt.title("Worldwide Revenue Over Years (in B$)", fontsize=14, fontweight="bold")
plt.xlabel("Year", fontsize=12)
plt.ylabel("Revenue (Billion $)", fontsize=12)

# Set x-axis ticks to every year
plt.xticks(df["Year"], rotation=45)

# Customize grid and legend
plt.grid(True, linestyle="--", alpha=0.6)
plt.legend()
plt.tight_layout()

# Show plot
plt.show()




