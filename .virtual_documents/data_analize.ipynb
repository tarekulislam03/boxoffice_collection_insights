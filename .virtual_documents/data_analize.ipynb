import pandas as pd


df = pd.read_csv("data.csv")


df['Rating_clean'] = df['Rating'].str.replace('/10', '', regex=False)
df['Rating_clean'] = pd.to_numeric(df['Rating_clean'], errors='coerce')


df = df.dropna()


df["$Worldwide"] = df["$Worldwide"]/1000000000


max_revenue_worldwide = df.groupby("Release Group")["$Worldwide"].max().sort_values(ascending = False)


print("Top 10 highest-grossing($B) movies worldwide")
max_revenue_worldwide.head(10)


a = df["$Foreign"].mean()/1000000
b = df["$Domestic"].mean()/1000000


print("Domestic vs Foreign revenue trends ---")
print(f"The foreign average revenue is {a:.2f}M $")
print(f"The domestic average revenue is {b:.2f}M $")


max_revenue_yearly = df.groupby("Year")["$Worldwide"].max().sort_values(ascending = False)


print(f"Yearly revenue trends in B$ --\n{max_revenue_yearly}")


max_rating_yearly = df.groupby("Year")["Rating_clean"].max().sort_values(ascending = False)


print(f"Yearly Ratiing trends out of 10 --\n{max_rating_yearly}")


df['Genres_list'] = df['Genres'].dropna().apply(lambda x: [g.strip() for g in x.split(',')])
df_exploded = df.explode("Genres_list")
genre_stats = df_exploded.groupby("Genres_list").agg({
    "$Worldwide": "mean",
    "Rating_clean": "mean"
}).sort_values("$Worldwide", ascending=False)


print("Group by Genres → find average revenue and ratings.")
genre_stats


blockbuster_movies_country = df.groupby("$Worldwide")["Production_Countries"].max().sort_values(ascending = False)


blockbuster_movies_country



