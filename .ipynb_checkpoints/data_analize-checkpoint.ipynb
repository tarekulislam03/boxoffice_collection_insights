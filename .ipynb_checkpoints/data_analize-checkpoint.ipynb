{
 "cells": [
  {
   "cell_type": "code",
   "execution_count": 3,
   "id": "1a02e30e-2a17-40b0-bcec-f2472f77c577",
   "metadata": {},
   "outputs": [],
   "source": [
    "import pandas as pd"
   ]
  },
  {
   "cell_type": "code",
   "execution_count": 4,
   "id": "bd5fc900-7473-4a34-8c75-3571f67f0ae8",
   "metadata": {},
   "outputs": [],
   "source": [
    "df = pd.read_csv(\"data.csv\")"
   ]
  },
  {
   "cell_type": "code",
   "execution_count": 5,
   "id": "ec1ba167-ba97-4409-915b-e3cc4aa0197a",
   "metadata": {},
   "outputs": [],
   "source": [
    "df['Rating_clean'] = df['Rating'].str.replace('/10', '', regex=False)\n",
    "df['Rating_clean'] = pd.to_numeric(df['Rating_clean'], errors='coerce')"
   ]
  },
  {
   "cell_type": "code",
   "execution_count": 6,
   "id": "2ac309a9-8bdf-4f8f-9de7-57b692d507f9",
   "metadata": {},
   "outputs": [],
   "source": [
    "df = df.dropna()"
   ]
  },
  {
   "cell_type": "code",
   "execution_count": 84,
   "id": "dadaf194-a24c-4e9b-9b53-8e90472ceb3f",
   "metadata": {},
   "outputs": [],
   "source": [
    "df[\"$Worldwide\"] = df[\"$Worldwide\"]/1000000000"
   ]
  },
  {
   "cell_type": "code",
   "execution_count": 85,
   "id": "234e9e56-97e4-43cc-84a1-13da987a1f39",
   "metadata": {},
   "outputs": [],
   "source": [
    "max_revenue_worldwide = df.groupby(\"Release Group\")[\"$Worldwide\"].max().sort_values(ascending = False)"
   ]
  },
  {
   "cell_type": "code",
   "execution_count": 86,
   "id": "fff2becc-fb5a-4f58-8179-bcee793036b7",
   "metadata": {},
   "outputs": [
    {
     "name": "stdout",
     "output_type": "stream",
     "text": [
      "Top 10 highest-grossing movies worldwide\n"
     ]
    },
    {
     "data": {
      "text/plain": [
       "Release Group\n",
       "Avengers: Endgame                             2.799439e-39\n",
       "Avatar                                        2.743578e-39\n",
       "Avatar: The Way of Water                      2.320250e-39\n",
       "Star Wars: Episode VII - The Force Awakens    2.068224e-39\n",
       "Avengers: Infinity War                        2.048360e-39\n",
       "Spider-Man: No Way Home                       1.910983e-39\n",
       "Inside Out 2                                  1.698773e-39\n",
       "Jurassic World                                1.670401e-39\n",
       "The Lion King                                 1.656943e-39\n",
       "The Avengers                                  1.518813e-39\n",
       "Name: $Worldwide, dtype: float64"
      ]
     },
     "execution_count": 86,
     "metadata": {},
     "output_type": "execute_result"
    }
   ],
   "source": [
    "print(\"Top 10 highest-grossing movies worldwide\")\n",
    "max_revenue_worldwide.head(10)"
   ]
  },
  {
   "cell_type": "code",
   "execution_count": 43,
   "id": "9af2576e-49ee-4e44-94c4-706ab97d8c38",
   "metadata": {},
   "outputs": [],
   "source": [
    "a = df[\"$Foreign\"].mean()/1000000\n",
    "b = df[\"$Domestic\"].mean()/1000000"
   ]
  },
  {
   "cell_type": "code",
   "execution_count": 47,
   "id": "351ea6fb-0110-4f3c-9bce-863c13644ade",
   "metadata": {},
   "outputs": [
    {
     "name": "stdout",
     "output_type": "stream",
     "text": [
      "The foreign average revenue is 76.24M $\n",
      "The domestic average revenue is 46.18M $\n"
     ]
    }
   ],
   "source": [
    "print(f\"The foreign average revenue is {a:.2f}M $\")\n",
    "print(f\"The domestic average revenue is {b:.2f}M $\")"
   ]
  },
  {
   "cell_type": "code",
   "execution_count": null,
   "id": "79e56f11-920c-4cb2-804e-d1fc07dcf980",
   "metadata": {},
   "outputs": [],
   "source": []
  },
  {
   "cell_type": "code",
   "execution_count": null,
   "id": "a473e725-d631-4425-97ac-3d678121ef2e",
   "metadata": {},
   "outputs": [],
   "source": []
  }
 ],
 "metadata": {
  "kernelspec": {
   "display_name": "Python [conda env:base] *",
   "language": "python",
   "name": "conda-base-py"
  },
  "language_info": {
   "codemirror_mode": {
    "name": "ipython",
    "version": 3
   },
   "file_extension": ".py",
   "mimetype": "text/x-python",
   "name": "python",
   "nbconvert_exporter": "python",
   "pygments_lexer": "ipython3",
   "version": "3.13.5"
  }
 },
 "nbformat": 4,
 "nbformat_minor": 5
}
