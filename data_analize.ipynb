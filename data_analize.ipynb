{
 "cells": [
  {
   "cell_type": "code",
   "execution_count": 1,
   "id": "1a02e30e-2a17-40b0-bcec-f2472f77c577",
   "metadata": {},
   "outputs": [],
   "source": [
    "import pandas as pd"
   ]
  },
  {
   "cell_type": "code",
   "execution_count": 2,
   "id": "bd5fc900-7473-4a34-8c75-3571f67f0ae8",
   "metadata": {},
   "outputs": [],
   "source": [
    "df = pd.read_csv(\"data.csv\")"
   ]
  },
  {
   "cell_type": "code",
   "execution_count": 3,
   "id": "ec1ba167-ba97-4409-915b-e3cc4aa0197a",
   "metadata": {},
   "outputs": [],
   "source": [
    "df['Rating_clean'] = df['Rating'].str.replace('/10', '', regex=False)\n",
    "df['Rating_clean'] = pd.to_numeric(df['Rating_clean'], errors='coerce')"
   ]
  },
  {
   "cell_type": "code",
   "execution_count": 4,
   "id": "2ac309a9-8bdf-4f8f-9de7-57b692d507f9",
   "metadata": {},
   "outputs": [],
   "source": [
    "df = df.dropna()"
   ]
  },
  {
   "cell_type": "code",
   "execution_count": 5,
   "id": "dadaf194-a24c-4e9b-9b53-8e90472ceb3f",
   "metadata": {},
   "outputs": [],
   "source": [
    "df[\"$Worldwide\"] = df[\"$Worldwide\"]/1000000000"
   ]
  },
  {
   "cell_type": "code",
   "execution_count": 6,
   "id": "234e9e56-97e4-43cc-84a1-13da987a1f39",
   "metadata": {},
   "outputs": [],
   "source": [
    "max_revenue_worldwide = df.groupby(\"Release Group\")[\"$Worldwide\"].max().sort_values(ascending = False)"
   ]
  },
  {
   "cell_type": "code",
   "execution_count": 8,
   "id": "fff2becc-fb5a-4f58-8179-bcee793036b7",
   "metadata": {},
   "outputs": [
    {
     "name": "stdout",
     "output_type": "stream",
     "text": [
      "Top 10 highest-grossing($B) movies worldwide\n"
     ]
    },
    {
     "data": {
      "text/plain": [
       "Release Group\n",
       "Avengers: Endgame                             2.799439\n",
       "Avatar                                        2.743578\n",
       "Avatar: The Way of Water                      2.320250\n",
       "Star Wars: Episode VII - The Force Awakens    2.068224\n",
       "Avengers: Infinity War                        2.048360\n",
       "Spider-Man: No Way Home                       1.910983\n",
       "Inside Out 2                                  1.698773\n",
       "Jurassic World                                1.670401\n",
       "The Lion King                                 1.656943\n",
       "The Avengers                                  1.518813\n",
       "Name: $Worldwide, dtype: float64"
      ]
     },
     "execution_count": 8,
     "metadata": {},
     "output_type": "execute_result"
    }
   ],
   "source": [
    "print(\"Top 10 highest-grossing($B) movies worldwide\")\n",
    "max_revenue_worldwide.head(10)"
   ]
  },
  {
   "cell_type": "code",
   "execution_count": 9,
   "id": "9af2576e-49ee-4e44-94c4-706ab97d8c38",
   "metadata": {},
   "outputs": [],
   "source": [
    "a = df[\"$Foreign\"].mean()/1000000\n",
    "b = df[\"$Domestic\"].mean()/1000000"
   ]
  },
  {
   "cell_type": "code",
   "execution_count": 11,
   "id": "351ea6fb-0110-4f3c-9bce-863c13644ade",
   "metadata": {},
   "outputs": [
    {
     "name": "stdout",
     "output_type": "stream",
     "text": [
      "Domestic vs Foreign revenue trends ---\n",
      "The foreign average revenue is 76.24M $\n",
      "The domestic average revenue is 46.18M $\n"
     ]
    }
   ],
   "source": [
    "print(\"Domestic vs Foreign revenue trends ---\")\n",
    "print(f\"The foreign average revenue is {a:.2f}M $\")\n",
    "print(f\"The domestic average revenue is {b:.2f}M $\")"
   ]
  },
  {
   "cell_type": "code",
   "execution_count": 12,
   "id": "79e56f11-920c-4cb2-804e-d1fc07dcf980",
   "metadata": {},
   "outputs": [],
   "source": [
    "max_revenue_yearly = df.groupby(\"Year\")[\"$Worldwide\"].max().sort_values(ascending = False)"
   ]
  },
  {
   "cell_type": "code",
   "execution_count": 17,
   "id": "a473e725-d631-4425-97ac-3d678121ef2e",
   "metadata": {},
   "outputs": [
    {
     "name": "stdout",
     "output_type": "stream",
     "text": [
      "Yearly revenue trends in B$ --\n",
      "Year\n",
      "2019    2.799439\n",
      "2009    2.743578\n",
      "2022    2.320250\n",
      "2015    2.068224\n",
      "2018    2.048360\n",
      "2021    1.910983\n",
      "2024    1.698773\n",
      "2012    1.518813\n",
      "2023    1.446938\n",
      "2011    1.341511\n",
      "2017    1.332540\n",
      "2013    1.280802\n",
      "2016    1.153296\n",
      "2003    1.118887\n",
      "2014    1.104054\n",
      "2010    1.066970\n",
      "2006    1.066180\n",
      "2008    1.003845\n",
      "2001    0.974755\n",
      "2007    0.960996\n",
      "2004    0.928974\n",
      "2002    0.923015\n",
      "2005    0.895921\n",
      "2000    0.546388\n",
      "2020    0.473230\n",
      "Name: $Worldwide, dtype: float64\n"
     ]
    }
   ],
   "source": [
    "print(f\"Yearly revenue trends in B$ --\\n{max_revenue_yearly}\")"
   ]
  },
  {
   "cell_type": "code",
   "execution_count": 20,
   "id": "89713c04-6537-4f9c-a7b3-c8fda7a83305",
   "metadata": {},
   "outputs": [],
   "source": [
    "max_rating_yearly = df.groupby(\"Year\")[\"Rating_clean\"].max().sort_values(ascending = False)"
   ]
  },
  {
   "cell_type": "code",
   "execution_count": 24,
   "id": "af694eb0-b3c3-4a5e-bf7e-bdad831f69bb",
   "metadata": {},
   "outputs": [
    {
     "name": "stdout",
     "output_type": "stream",
     "text": [
      "Yearly Ratiing trends out of 10 --\n",
      "Year\n",
      "2024    9.700\n",
      "2020    9.000\n",
      "2022    8.900\n",
      "2023    8.600\n",
      "2001    8.538\n",
      "2008    8.500\n",
      "2003    8.500\n",
      "2019    8.500\n",
      "2021    8.500\n",
      "2016    8.486\n",
      "2002    8.425\n",
      "2004    8.403\n",
      "2014    8.400\n",
      "2018    8.399\n",
      "2010    8.370\n",
      "2013    8.300\n",
      "2017    8.289\n",
      "2011    8.275\n",
      "2012    8.227\n",
      "2000    8.217\n",
      "2006    8.204\n",
      "2009    8.200\n",
      "2007    8.075\n",
      "2005    8.071\n",
      "2015    8.000\n",
      "Name: Rating_clean, dtype: float64\n"
     ]
    }
   ],
   "source": [
    "print(f\"Yearly Ratiing trends out of 10 --\\n{max_rating_yearly}\")"
   ]
  },
  {
   "cell_type": "code",
   "execution_count": 32,
   "id": "68c6f3ce-e299-4251-a640-33726e25c8af",
   "metadata": {},
   "outputs": [],
   "source": [
    "df['Genres_list'] = df['Genres'].dropna().apply(lambda x: [g.strip() for g in x.split(',')])\n",
    "df_exploded = df.explode(\"Genres_list\")\n",
    "genre_stats = df_exploded.groupby(\"Genres_list\").agg({\n",
    "    \"$Worldwide\": \"mean\",\n",
    "    \"Rating_clean\": \"mean\"\n",
    "}).sort_values(\"$Worldwide\", ascending=False)"
   ]
  },
  {
   "cell_type": "code",
   "execution_count": 35,
   "id": "199131f4-1f7d-4401-a476-717cd06ab94b",
   "metadata": {},
   "outputs": [
    {
     "name": "stdout",
     "output_type": "stream",
     "text": [
      "Group by Genres → find average revenue and ratings.\n"
     ]
    },
    {
     "data": {
      "text/html": [
       "<div>\n",
       "<style scoped>\n",
       "    .dataframe tbody tr th:only-of-type {\n",
       "        vertical-align: middle;\n",
       "    }\n",
       "\n",
       "    .dataframe tbody tr th {\n",
       "        vertical-align: top;\n",
       "    }\n",
       "\n",
       "    .dataframe thead th {\n",
       "        text-align: right;\n",
       "    }\n",
       "</style>\n",
       "<table border=\"1\" class=\"dataframe\">\n",
       "  <thead>\n",
       "    <tr style=\"text-align: right;\">\n",
       "      <th></th>\n",
       "      <th>$Worldwide</th>\n",
       "      <th>Rating_clean</th>\n",
       "    </tr>\n",
       "    <tr>\n",
       "      <th>Genres_list</th>\n",
       "      <th></th>\n",
       "      <th></th>\n",
       "    </tr>\n",
       "  </thead>\n",
       "  <tbody>\n",
       "    <tr>\n",
       "      <th>Science Fiction</th>\n",
       "      <td>0.255810</td>\n",
       "      <td>6.542789</td>\n",
       "    </tr>\n",
       "    <tr>\n",
       "      <th>Adventure</th>\n",
       "      <td>0.245460</td>\n",
       "      <td>6.585471</td>\n",
       "    </tr>\n",
       "    <tr>\n",
       "      <th>Fantasy</th>\n",
       "      <td>0.194065</td>\n",
       "      <td>6.566785</td>\n",
       "    </tr>\n",
       "    <tr>\n",
       "      <th>Animation</th>\n",
       "      <td>0.190119</td>\n",
       "      <td>6.866116</td>\n",
       "    </tr>\n",
       "    <tr>\n",
       "      <th>Action</th>\n",
       "      <td>0.184445</td>\n",
       "      <td>6.507973</td>\n",
       "    </tr>\n",
       "    <tr>\n",
       "      <th>Family</th>\n",
       "      <td>0.177329</td>\n",
       "      <td>6.567324</td>\n",
       "    </tr>\n",
       "    <tr>\n",
       "      <th>War</th>\n",
       "      <td>0.124042</td>\n",
       "      <td>6.868340</td>\n",
       "    </tr>\n",
       "    <tr>\n",
       "      <th>Thriller</th>\n",
       "      <td>0.111885</td>\n",
       "      <td>6.478437</td>\n",
       "    </tr>\n",
       "    <tr>\n",
       "      <th>Western</th>\n",
       "      <td>0.106369</td>\n",
       "      <td>6.778735</td>\n",
       "    </tr>\n",
       "    <tr>\n",
       "      <th>Comedy</th>\n",
       "      <td>0.106033</td>\n",
       "      <td>6.313420</td>\n",
       "    </tr>\n",
       "    <tr>\n",
       "      <th>Music</th>\n",
       "      <td>0.098148</td>\n",
       "      <td>6.787270</td>\n",
       "    </tr>\n",
       "    <tr>\n",
       "      <th>Crime</th>\n",
       "      <td>0.092784</td>\n",
       "      <td>6.552492</td>\n",
       "    </tr>\n",
       "    <tr>\n",
       "      <th>Mystery</th>\n",
       "      <td>0.085814</td>\n",
       "      <td>6.450144</td>\n",
       "    </tr>\n",
       "    <tr>\n",
       "      <th>Horror</th>\n",
       "      <td>0.085793</td>\n",
       "      <td>6.168749</td>\n",
       "    </tr>\n",
       "    <tr>\n",
       "      <th>Romance</th>\n",
       "      <td>0.084098</td>\n",
       "      <td>6.480652</td>\n",
       "    </tr>\n",
       "    <tr>\n",
       "      <th>History</th>\n",
       "      <td>0.083945</td>\n",
       "      <td>6.943242</td>\n",
       "    </tr>\n",
       "    <tr>\n",
       "      <th>Drama</th>\n",
       "      <td>0.081767</td>\n",
       "      <td>6.765036</td>\n",
       "    </tr>\n",
       "    <tr>\n",
       "      <th>Documentary</th>\n",
       "      <td>0.046028</td>\n",
       "      <td>6.753333</td>\n",
       "    </tr>\n",
       "    <tr>\n",
       "      <th>TV Movie</th>\n",
       "      <td>0.020453</td>\n",
       "      <td>7.161833</td>\n",
       "    </tr>\n",
       "  </tbody>\n",
       "</table>\n",
       "</div>"
      ],
      "text/plain": [
       "                 $Worldwide  Rating_clean\n",
       "Genres_list                              \n",
       "Science Fiction    0.255810      6.542789\n",
       "Adventure          0.245460      6.585471\n",
       "Fantasy            0.194065      6.566785\n",
       "Animation          0.190119      6.866116\n",
       "Action             0.184445      6.507973\n",
       "Family             0.177329      6.567324\n",
       "War                0.124042      6.868340\n",
       "Thriller           0.111885      6.478437\n",
       "Western            0.106369      6.778735\n",
       "Comedy             0.106033      6.313420\n",
       "Music              0.098148      6.787270\n",
       "Crime              0.092784      6.552492\n",
       "Mystery            0.085814      6.450144\n",
       "Horror             0.085793      6.168749\n",
       "Romance            0.084098      6.480652\n",
       "History            0.083945      6.943242\n",
       "Drama              0.081767      6.765036\n",
       "Documentary        0.046028      6.753333\n",
       "TV Movie           0.020453      7.161833"
      ]
     },
     "execution_count": 35,
     "metadata": {},
     "output_type": "execute_result"
    }
   ],
   "source": [
    "print(\"Group by Genres → find average revenue and ratings.\")\n",
    "genre_stats"
   ]
  },
  {
   "cell_type": "code",
   "execution_count": 43,
   "id": "c61e12e3-15c8-41f5-b8f5-a1fc5ee9b442",
   "metadata": {},
   "outputs": [],
   "source": [
    "df['Countries_list'] = df['Production_Countries'].dropna().apply(lambda x: [g.strip() for g in x.split(',')])\n",
    "df_exploded = df.explode(\"Countries_list\")\n",
    "countries_stats = df_exploded.groupby(\"Countries_list\").agg({\n",
    "    \"$Worldwide\": \"max\",\n",
    "}).sort_values(\"$Worldwide\", ascending=False)"
   ]
  },
  {
   "cell_type": "code",
   "execution_count": 46,
   "id": "ab0fcb4a-014a-45db-9bef-bf76027cbe28",
   "metadata": {},
   "outputs": [
    {
     "name": "stdout",
     "output_type": "stream",
     "text": [
      "top production countries contributing to blockbusters\n"
     ]
    },
    {
     "data": {
      "text/html": [
       "<div>\n",
       "<style scoped>\n",
       "    .dataframe tbody tr th:only-of-type {\n",
       "        vertical-align: middle;\n",
       "    }\n",
       "\n",
       "    .dataframe tbody tr th {\n",
       "        vertical-align: top;\n",
       "    }\n",
       "\n",
       "    .dataframe thead th {\n",
       "        text-align: right;\n",
       "    }\n",
       "</style>\n",
       "<table border=\"1\" class=\"dataframe\">\n",
       "  <thead>\n",
       "    <tr style=\"text-align: right;\">\n",
       "      <th></th>\n",
       "      <th>$Worldwide</th>\n",
       "    </tr>\n",
       "    <tr>\n",
       "      <th>Countries_list</th>\n",
       "      <th></th>\n",
       "    </tr>\n",
       "  </thead>\n",
       "  <tbody>\n",
       "    <tr>\n",
       "      <th>United States of America</th>\n",
       "      <td>2.799439</td>\n",
       "    </tr>\n",
       "    <tr>\n",
       "      <th>United Kingdom</th>\n",
       "      <td>2.743578</td>\n",
       "    </tr>\n",
       "    <tr>\n",
       "      <th>Japan</th>\n",
       "      <td>1.360848</td>\n",
       "    </tr>\n",
       "    <tr>\n",
       "      <th>New Zealand</th>\n",
       "      <td>1.118887</td>\n",
       "    </tr>\n",
       "    <tr>\n",
       "      <th>Canada</th>\n",
       "      <td>1.078751</td>\n",
       "    </tr>\n",
       "    <tr>\n",
       "      <th>Hong Kong</th>\n",
       "      <td>0.902548</td>\n",
       "    </tr>\n",
       "    <tr>\n",
       "      <th>China</th>\n",
       "      <td>0.902548</td>\n",
       "    </tr>\n",
       "    <tr>\n",
       "      <th>Germany</th>\n",
       "      <td>0.878980</td>\n",
       "    </tr>\n",
       "    <tr>\n",
       "      <th>India</th>\n",
       "      <td>0.609017</td>\n",
       "    </tr>\n",
       "    <tr>\n",
       "      <th>Taiwan</th>\n",
       "      <td>0.609017</td>\n",
       "    </tr>\n",
       "  </tbody>\n",
       "</table>\n",
       "</div>"
      ],
      "text/plain": [
       "                          $Worldwide\n",
       "Countries_list                      \n",
       "United States of America    2.799439\n",
       "United Kingdom              2.743578\n",
       "Japan                       1.360848\n",
       "New Zealand                 1.118887\n",
       "Canada                      1.078751\n",
       "Hong Kong                   0.902548\n",
       "China                       0.902548\n",
       "Germany                     0.878980\n",
       "India                       0.609017\n",
       "Taiwan                      0.609017"
      ]
     },
     "execution_count": 46,
     "metadata": {},
     "output_type": "execute_result"
    }
   ],
   "source": [
    "print(\"top production countries contributing to blockbusters\")\n",
    "countries_stats.head(10)"
   ]
  },
  {
   "cell_type": "code",
   "execution_count": null,
   "id": "39b2bdc7-7a0d-4fa4-a282-e35a07be5f14",
   "metadata": {},
   "outputs": [],
   "source": []
  }
 ],
 "metadata": {
  "kernelspec": {
   "display_name": "Python [conda env:base] *",
   "language": "python",
   "name": "conda-base-py"
  },
  "language_info": {
   "codemirror_mode": {
    "name": "ipython",
    "version": 3
   },
   "file_extension": ".py",
   "mimetype": "text/x-python",
   "name": "python",
   "nbconvert_exporter": "python",
   "pygments_lexer": "ipython3",
   "version": "3.13.5"
  }
 },
 "nbformat": 4,
 "nbformat_minor": 5
}
